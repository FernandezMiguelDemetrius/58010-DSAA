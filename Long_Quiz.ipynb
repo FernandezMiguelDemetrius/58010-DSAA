{
  "nbformat": 4,
  "nbformat_minor": 0,
  "metadata": {
    "colab": {
      "provenance": [],
      "authorship_tag": "ABX9TyPjYQGks+E4vcAX6Pd/GDRK",
      "include_colab_link": true
    },
    "kernelspec": {
      "name": "python3",
      "display_name": "Python 3"
    },
    "language_info": {
      "name": "python"
    }
  },
  "cells": [
    {
      "cell_type": "markdown",
      "metadata": {
        "id": "view-in-github",
        "colab_type": "text"
      },
      "source": [
        "<a href=\"https://colab.research.google.com/github/FernandezMiguelDemetrius/58010-DSAA/blob/main/Long_Quiz.ipynb\" target=\"_parent\"><img src=\"https://colab.research.google.com/assets/colab-badge.svg\" alt=\"Open In Colab\"/></a>"
      ]
    },
    {
      "cell_type": "markdown",
      "source": [
        "Reversed Name"
      ],
      "metadata": {
        "id": "f6Hbtc4cLfXz"
      }
    },
    {
      "cell_type": "code",
      "execution_count": 2,
      "metadata": {
        "colab": {
          "base_uri": "https://localhost:8080/"
        },
        "id": "jtmvSaY9JfOU",
        "outputId": "823218db-b88f-4a99-e667-7cae3f116ca7"
      },
      "outputs": [
        {
          "output_type": "stream",
          "name": "stdout",
          "text": [
            "leugiM suirtemeD zednanreF \n"
          ]
        }
      ],
      "source": [
        "full_name = \"Miguel Demetrius Fernandez\"\n",
        "\n",
        "appended_name = \"\"\n",
        "reversed_name = \"\"\n",
        "\n",
        "words = full_name.split()\n",
        "for word in words:\n",
        "\n",
        "    for char in word:\n",
        "        appended_name += char\n",
        "\n",
        "    reversed_word = appended_name[::-1]\n",
        "    print(reversed_word, end=' ')\n",
        "    appended_name = \"\"\n",
        "\n",
        "\n",
        "print()\n"
      ]
    },
    {
      "cell_type": "markdown",
      "source": [
        "Prime and Composite Numbers\n"
      ],
      "metadata": {
        "id": "lcV5yRzILatE"
      }
    },
    {
      "cell_type": "code",
      "source": [
        "def is_prime(num):\n",
        "    if num <= 1:\n",
        "        return False\n",
        "    if num <= 3:\n",
        "        return True\n",
        "    if num % 2 == 0 or num % 3 == 0:\n",
        "        return False\n",
        "    i = 5\n",
        "    while i * i <= num:\n",
        "        if num % i == 0 or num % (i + 2) == 0:\n",
        "            return False\n",
        "        i += 6\n",
        "    return True\n",
        "\n",
        "for number in range(1, 11):\n",
        "    if is_prime(number):\n",
        "        print(f\"{number} is Prime Number.\")\n",
        "    else:\n",
        "        print(f\"{number} is Composite Number.\")\n"
      ],
      "metadata": {
        "colab": {
          "base_uri": "https://localhost:8080/"
        },
        "id": "mwP1uIyWLSyt",
        "outputId": "6057b90b-415c-41c5-da73-a5aa567739df"
      },
      "execution_count": 8,
      "outputs": [
        {
          "output_type": "stream",
          "name": "stdout",
          "text": [
            "1 is Composite Number.\n",
            "2 is Prime Number.\n",
            "3 is Prime Number.\n",
            "4 is Composite Number.\n",
            "5 is Prime Number.\n",
            "6 is Composite Number.\n",
            "7 is Prime Number.\n",
            "8 is Composite Number.\n",
            "9 is Composite Number.\n",
            "10 is Composite Number.\n"
          ]
        }
      ]
    }
  ]
}
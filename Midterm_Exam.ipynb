{
  "nbformat": 4,
  "nbformat_minor": 0,
  "metadata": {
    "colab": {
      "provenance": [],
      "authorship_tag": "ABX9TyNWeGFN5hmz4dYahvHSapgM",
      "include_colab_link": true
    },
    "kernelspec": {
      "name": "python3",
      "display_name": "Python 3"
    },
    "language_info": {
      "name": "python"
    }
  },
  "cells": [
    {
      "cell_type": "markdown",
      "metadata": {
        "id": "view-in-github",
        "colab_type": "text"
      },
      "source": [
        "<a href=\"https://colab.research.google.com/github/FernandezMiguelDemetrius/58010-DSAA/blob/main/Midterm_Exam.ipynb\" target=\"_parent\"><img src=\"https://colab.research.google.com/assets/colab-badge.svg\" alt=\"Open In Colab\"/></a>"
      ]
    },
    {
      "cell_type": "code",
      "execution_count": 12,
      "metadata": {
        "colab": {
          "base_uri": "https://localhost:8080/"
        },
        "id": "2xE2r4OzhbPJ",
        "outputId": "f1bb93be-f3b1-4370-bf7a-f06ffafa5db5"
      },
      "outputs": [
        {
          "output_type": "stream",
          "name": "stdout",
          "text": [
            "['A', 'B', 'C', 'D', 'E', 'F', 'G', 'I', 'J', 'K', 'L', 'M', 'N', 'O', 'P']\n"
          ]
        }
      ],
      "source": [
        "class graph:\n",
        "  def __init__(self,gdict=None):\n",
        "    if gdict is None:\n",
        "       gdict = []\n",
        "    self.gdict = gdict\n",
        "\n",
        "  def getVertices(self):\n",
        "      return list(self.gdict.keys())\n",
        "\n",
        "graph_elements = {\n",
        "    \"A\" : [\"B\", \"E\"],\n",
        "    \"B\" : [\"E\", \"F\"],\n",
        "    \"C\" : [\"E\", \"B\", \"F\"],\n",
        "    \"D\" : [\"L\", \"K\"],\n",
        "    \"E\" : [\"B\", \"N\"],\n",
        "    \"F\" : [\"B\", \"G\"],\n",
        "    \"G\" : [\"F\", \"I\", \"J\"],\n",
        "    \"I\" : [\"J\", \"K\"],\n",
        "    \"J\" : [\"G\", \"I\", \"K\"],\n",
        "    \"K\" : [\"J\", \"D\"],\n",
        "    \"L\" : [\"L\", \"D\"],\n",
        "    \"M\" : [\"N\", \"O\", \"P\"],\n",
        "    \"N\" : [\"E\", \"O\"],\n",
        "    \"O\" : [\"N\", \"P\", \"M\"],\n",
        "    \"P\" : [\"L\", \"O\", \"M\"]\n",
        "\n",
        "}\n",
        "g = graph(graph_elements)\n",
        "print(g.getVertices())"
      ]
    }
  ]
}
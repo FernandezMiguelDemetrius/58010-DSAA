{
  "nbformat": 4,
  "nbformat_minor": 0,
  "metadata": {
    "colab": {
      "provenance": [],
      "authorship_tag": "ABX9TyPux1yUXEaq9vQj9X7ZfEgx",
      "include_colab_link": true
    },
    "kernelspec": {
      "name": "python3",
      "display_name": "Python 3"
    },
    "language_info": {
      "name": "python"
    }
  },
  "cells": [
    {
      "cell_type": "markdown",
      "metadata": {
        "id": "view-in-github",
        "colab_type": "text"
      },
      "source": [
        "<a href=\"https://colab.research.google.com/github/FernandezMiguelDemetrius/58010-DSAA/blob/main/LQ1.ipynb\" target=\"_parent\"><img src=\"https://colab.research.google.com/assets/colab-badge.svg\" alt=\"Open In Colab\"/></a>"
      ]
    },
    {
      "cell_type": "markdown",
      "source": [
        "Reversed Name"
      ],
      "metadata": {
        "id": "o5U4ryH9Mmp1"
      }
    },
    {
      "cell_type": "code",
      "execution_count": 2,
      "metadata": {
        "colab": {
          "base_uri": "https://localhost:8080/"
        },
        "id": "Gw8M0pFaMkzr",
        "outputId": "a2af5884-f796-457d-b474-e2cfcd8d5e3f"
      },
      "outputs": [
        {
          "output_type": "stream",
          "name": "stdout",
          "text": [
            "Fernandez\n",
            "Demetrius\n",
            "Miguel\n"
          ]
        }
      ],
      "source": [
        "full_name = \"Miguel Demetrius Fernandez\"\n",
        "\n",
        "words = full_name.split()\n",
        "\n",
        "words.reverse()\n",
        "\n",
        "for word in words:\n",
        "    for char in word:\n",
        "        print(char, end='')\n",
        "    print()\n"
      ]
    },
    {
      "cell_type": "markdown",
      "source": [
        "Prime and Composite Number"
      ],
      "metadata": {
        "id": "qTiY4gzdMpuj"
      }
    },
    {
      "cell_type": "code",
      "source": [
        "def is_prime(num):\n",
        "    if num <= 1:\n",
        "        return False\n",
        "    if num <= 3:\n",
        "        return True\n",
        "    if num % 2 == 0 or num % 3 == 0:\n",
        "        return False\n",
        "    for i in range(5, int(num**0.5) + 1, 6):\n",
        "        if num % i == 0 or num % (i + 2) == 0:\n",
        "            return False\n",
        "    return True\n",
        "\n",
        "for number in range(1, 11):\n",
        "    if is_prime(number):\n",
        "        print(f\"{number} is Prime Number.\")\n",
        "    else:\n",
        "        print(f\"{number} is Composite Number.\")\n"
      ],
      "metadata": {
        "colab": {
          "base_uri": "https://localhost:8080/"
        },
        "id": "r3PvKueAMsrb",
        "outputId": "93c5c0fe-290a-4a8a-d550-7c334b384ec9"
      },
      "execution_count": 3,
      "outputs": [
        {
          "output_type": "stream",
          "name": "stdout",
          "text": [
            "1 is Composite Number.\n",
            "2 is Prime Number.\n",
            "3 is Prime Number.\n",
            "4 is Composite Number.\n",
            "5 is Prime Number.\n",
            "6 is Composite Number.\n",
            "7 is Prime Number.\n",
            "8 is Composite Number.\n",
            "9 is Composite Number.\n",
            "10 is Composite Number.\n"
          ]
        }
      ]
    }
  ]
}
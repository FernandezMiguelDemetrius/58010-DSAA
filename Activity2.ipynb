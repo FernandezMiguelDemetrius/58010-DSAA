{
  "nbformat": 4,
  "nbformat_minor": 0,
  "metadata": {
    "colab": {
      "provenance": [],
      "authorship_tag": "ABX9TyMQR/iwdwTRCehpM0Crfb0T",
      "include_colab_link": true
    },
    "kernelspec": {
      "name": "python3",
      "display_name": "Python 3"
    },
    "language_info": {
      "name": "python"
    }
  },
  "cells": [
    {
      "cell_type": "markdown",
      "metadata": {
        "id": "view-in-github",
        "colab_type": "text"
      },
      "source": [
        "<a href=\"https://colab.research.google.com/github/FernandezMiguelDemetrius/58010-DSAA/blob/main/Activity2.ipynb\" target=\"_parent\"><img src=\"https://colab.research.google.com/assets/colab-badge.svg\" alt=\"Open In Colab\"/></a>"
      ]
    },
    {
      "cell_type": "code",
      "execution_count": 1,
      "metadata": {
        "colab": {
          "base_uri": "https://localhost:8080/"
        },
        "id": "5k7MM7xs5XSv",
        "outputId": "b87d4255-f39e-4783-98ac-7e6b7e2e47ad"
      },
      "outputs": [
        {
          "output_type": "stream",
          "name": "stdout",
          "text": [
            "2\n",
            "3\n",
            "5\n",
            "7\n",
            "11\n",
            "13\n",
            "17\n",
            "19\n",
            "Head: 2\n",
            "Tail: 19\n"
          ]
        }
      ],
      "source": [
        "class Node:\n",
        "    def __init__(self, data):\n",
        "        self.data = data\n",
        "        self.next = None\n",
        "\n",
        "class LinkedList:\n",
        "    def __init__(self):\n",
        "        self.head = None\n",
        "        self.tail = None\n",
        "\n",
        "    def append(self, data):\n",
        "        new_node = Node(data)\n",
        "        if not self.head:\n",
        "            self.head = new_node\n",
        "        else:\n",
        "            self.tail.next = new_node\n",
        "        self.tail = new_node\n",
        "\n",
        "def is_prime(num):\n",
        "    return num > 1 and all(num % i != 0 for i in range(2, int(num**0.5) + 1))\n",
        "\n",
        "primes = LinkedList()\n",
        "prime_data = [num for num in range(1, 20) if is_prime(num)]\n",
        "[primes.append(data) for data in prime_data]\n",
        "\n",
        "current = primes.head\n",
        "while current:\n",
        "    print(current.data)\n",
        "    current = current.next\n",
        "\n",
        "if primes.head:\n",
        "    print(\"Head:\", primes.head.data)\n",
        "if primes.tail:\n",
        "    print(\"Tail:\", primes.tail.data)\n"
      ]
    }
  ]
}
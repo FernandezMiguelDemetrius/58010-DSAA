{
  "nbformat": 4,
  "nbformat_minor": 0,
  "metadata": {
    "colab": {
      "provenance": [],
      "authorship_tag": "ABX9TyMVCIiXcxCrAntZa1xYA93w",
      "include_colab_link": true
    },
    "kernelspec": {
      "name": "python3",
      "display_name": "Python 3"
    },
    "language_info": {
      "name": "python"
    }
  },
  "cells": [
    {
      "cell_type": "markdown",
      "metadata": {
        "id": "view-in-github",
        "colab_type": "text"
      },
      "source": [
        "<a href=\"https://colab.research.google.com/github/FernandezMiguelDemetrius/58010-DSAA/blob/main/Activity1.ipynb\" target=\"_parent\"><img src=\"https://colab.research.google.com/assets/colab-badge.svg\" alt=\"Open In Colab\"/></a>"
      ]
    },
    {
      "cell_type": "markdown",
      "source": [
        "1. Sum of 10 Array Numbers"
      ],
      "metadata": {
        "id": "eiiJtxwr6CMk"
      }
    },
    {
      "cell_type": "code",
      "execution_count": 8,
      "metadata": {
        "colab": {
          "base_uri": "https://localhost:8080/"
        },
        "id": "jb3MnANv3ylE",
        "outputId": "7c375064-27dd-4315-c02c-50de85425b09"
      },
      "outputs": [
        {
          "output_type": "stream",
          "name": "stdout",
          "text": [
            "Array numbers: [1, 2, 3, 4, 5, 6, 7, 8, 9, 10]\n",
            "Sum of array: 55\n"
          ]
        }
      ],
      "source": [
        "numbers = [1, 2, 3, 4, 5, 6, 7, 8, 9, 10]\n",
        "print(\"Array numbers:\", numbers)\n",
        "num_sum = sum(numbers)\n",
        "print(\"Sum of array:\", num_sum)\n"
      ]
    },
    {
      "cell_type": "markdown",
      "source": [
        "2. Appending Arrays"
      ],
      "metadata": {
        "id": "ocRjmCfK4yTf"
      }
    },
    {
      "cell_type": "code",
      "source": [
        "numbers = [1, 2, 3, 4, 5, 6, 7, 8, 9, 10]\n",
        "num = 11\n",
        "numbers.append(num)\n",
        "print(\"New array:\", numbers)\n"
      ],
      "metadata": {
        "colab": {
          "base_uri": "https://localhost:8080/"
        },
        "id": "Z6c7V08N43cX",
        "outputId": "6dc115b9-1d81-42fd-898e-1ec08e6a223a"
      },
      "execution_count": 2,
      "outputs": [
        {
          "output_type": "stream",
          "name": "stdout",
          "text": [
            "New array: [1, 2, 3, 4, 5, 6, 7, 8, 9, 10, 11]\n"
          ]
        }
      ]
    },
    {
      "cell_type": "markdown",
      "source": [
        "3. Existing Array"
      ],
      "metadata": {
        "id": "W4K4_k3i5D7N"
      }
    },
    {
      "cell_type": "code",
      "source": [
        "numbers = [1, 2, 3, 4, 5, 6, 7, 8, 9, 10]\n",
        "new = 0\n",
        "numb = 1\n",
        "numbers.insert(numb, new)\n",
        "print(\"Updated array:\", numbers)\n"
      ],
      "metadata": {
        "colab": {
          "base_uri": "https://localhost:8080/"
        },
        "id": "mKLXqqj35Hwo",
        "outputId": "140b2cf0-3cc4-45c3-d894-ce7347117160"
      },
      "execution_count": 5,
      "outputs": [
        {
          "output_type": "stream",
          "name": "stdout",
          "text": [
            "Updated array: [1, 0, 2, 3, 4, 5, 6, 7, 8, 9, 10]\n"
          ]
        }
      ]
    },
    {
      "cell_type": "markdown",
      "source": [
        "4. Reverse Array"
      ],
      "metadata": {
        "id": "aIxaXg215gE1"
      }
    },
    {
      "cell_type": "code",
      "source": [
        "numbers = [5, 4, 3, 2, 1]\n",
        "numbers.reverse()\n",
        "print(\"Reversed array:\", numbers)\n"
      ],
      "metadata": {
        "colab": {
          "base_uri": "https://localhost:8080/"
        },
        "id": "gTQh_ZKG5ha9",
        "outputId": "f8d3637d-b66b-4485-820b-5f5869451141"
      },
      "execution_count": 6,
      "outputs": [
        {
          "output_type": "stream",
          "name": "stdout",
          "text": [
            "Reversed array: [1, 2, 3, 4, 5]\n"
          ]
        }
      ]
    },
    {
      "cell_type": "markdown",
      "source": [
        "5. Array Length\n"
      ],
      "metadata": {
        "id": "cB3CIyCX5kjd"
      }
    },
    {
      "cell_type": "code",
      "source": [
        "numbers = [5, 4, 3, 2, 1]\n",
        "array_length = len(numbers)\n",
        "print(\"Length of array:\", array_length)\n"
      ],
      "metadata": {
        "colab": {
          "base_uri": "https://localhost:8080/"
        },
        "id": "vMX6fDk95mwV",
        "outputId": "18219ddc-57f9-4f47-b2c9-7d4ed5f9319b"
      },
      "execution_count": 7,
      "outputs": [
        {
          "output_type": "stream",
          "name": "stdout",
          "text": [
            "Length of array: 5\n"
          ]
        }
      ]
    }
  ]
}
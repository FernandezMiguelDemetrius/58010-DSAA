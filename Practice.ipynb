{
  "nbformat": 4,
  "nbformat_minor": 0,
  "metadata": {
    "colab": {
      "provenance": [],
      "authorship_tag": "ABX9TyO/CO26Blq43frpilvFhE9i",
      "include_colab_link": true
    },
    "kernelspec": {
      "name": "python3",
      "display_name": "Python 3"
    },
    "language_info": {
      "name": "python"
    }
  },
  "cells": [
    {
      "cell_type": "markdown",
      "metadata": {
        "id": "view-in-github",
        "colab_type": "text"
      },
      "source": [
        "<a href=\"https://colab.research.google.com/github/FernandezMiguelDemetrius/58010-DSAA/blob/main/Practice.ipynb\" target=\"_parent\"><img src=\"https://colab.research.google.com/assets/colab-badge.svg\" alt=\"Open In Colab\"/></a>"
      ]
    },
    {
      "cell_type": "code",
      "execution_count": 1,
      "metadata": {
        "colab": {
          "base_uri": "https://localhost:8080/"
        },
        "id": "Ukw9QFHLxs5n",
        "outputId": "65ca489c-3583-4bc5-f8b7-0d74d98ca5a0"
      },
      "outputs": [
        {
          "output_type": "stream",
          "name": "stdout",
          "text": [
            "Sum of odd numbers: 211\n"
          ]
        }
      ],
      "source": [
        "numbers = [26, 49, 98, 87, 62, 75]\n",
        "odd_sum = 0\n",
        "\n",
        "for num in numbers:\n",
        "    if num % 2 != 0:\n",
        "        odd_sum += num\n",
        "\n",
        "print(\"Sum of odd numbers:\", odd_sum)\n"
      ]
    },
    {
      "cell_type": "code",
      "source": [
        "numbers = [26, 49, 98, 87, 62, 75]\n",
        "sum_even = 0\n",
        "\n",
        "for num in numbers:\n",
        "    if num % 2 == 0:\n",
        "        sum_even += num\n",
        "\n",
        "print(\"Sum of even scores:\", sum_even)\n"
      ],
      "metadata": {
        "colab": {
          "base_uri": "https://localhost:8080/"
        },
        "id": "V8BYfdRoz9Ng",
        "outputId": "cbfdeaa4-c63b-43f1-cdb1-6115c0eb73b9"
      },
      "execution_count": 3,
      "outputs": [
        {
          "output_type": "stream",
          "name": "stdout",
          "text": [
            "Sum of even scores: 186\n"
          ]
        }
      ]
    }
  ]
}